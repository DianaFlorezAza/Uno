{
 "cells": [
  {
   "cell_type": "markdown",
   "metadata": {
    "id": "zE20m3hletSL"
   },
   "source": [
    "#La nostalgia del melomano\r\n"
   ]
  },
  {
   "cell_type": "markdown",
   "metadata": {
    "id": "oSb42H6rjr_w"
   },
   "source": [
    "Este es mi libro favorito\r\n",
    "\r\n",
    "[Referencia](https://co.search.yahoo.com/search?fr=mcafee&type=E211CO885G0&p=la+nostalgia+del+melomano)\r\n",
    "\r\n",
    "![Caratula](https://tse2.mm.bing.net/th?id=OIP.ZO1V06_SnLeZ4mnMOJwK-gHaEK&pid=Api&P=0&w=288&h=163)"
   ]
  },
  {
   "cell_type": "markdown",
   "metadata": {
    "id": "QMuxgx3pkTFT"
   },
   "source": [
    "*Que tu nunca puedes abarcar la musica en un solo instante*\r\n",
    "\r\n",
    "**Que tu nunca puedes abarcar la musica en un solo instante**\r\n",
    "\r\n",
    "***Que tu nunca puedes abarcar la musica en un solo instante***\r\n",
    "\r\n",
    "> Ese dia no visite "
   ]
  },
  {
   "cell_type": "markdown",
   "metadata": {
    "id": "GF12rcWZljJy"
   },
   "source": [
    "# Lenguaje Latex"
   ]
  },
  {
   "cell_type": "markdown",
   "metadata": {
    "id": "_KCzbGa4lpYp"
   },
   "source": [
    "El lenguaje Latex se usa para colocar ecuaciones matematicas de forma prosional\r\n",
    "\r\n",
    "Este es el lenguaje estandar usado por la mayoria de los cientificos en el mundo\r\n",
    "\r\n",
    "$$y=X^2$$\r\n",
    "\r\n",
    "$$\\frac{dC}{dt}=kC$$"
   ]
  },
  {
   "cell_type": "code",
   "execution_count": 2,
   "metadata": {
    "colab": {
     "base_uri": "https://localhost:8080/"
    },
    "id": "UDff64fJnznq",
    "outputId": "339b57c9-a458-4f53-ed77-30c09f5538d9"
   },
   "outputs": [
    {
     "name": "stdout",
     "output_type": "stream",
     "text": [
      "Hola Mundo\n"
     ]
    }
   ],
   "source": [
    "print(\"Hola Mundo\") \r\n",
    "#shif 8 abre y cierra parentesis "
   ]
  },
  {
   "cell_type": "markdown",
   "metadata": {},
   "source": [
    "Otro Titulo"
   ]
  },
  {
   "cell_type": "code",
   "execution_count": null,
   "metadata": {},
   "outputs": [],
   "source": []
  }
 ],
 "metadata": {
  "colab": {
   "name": "MiPrimerCuaderno.ipynb",
   "provenance": [],
   "toc_visible": true
  },
  "kernelspec": {
   "display_name": "Python 3",
   "language": "python",
   "name": "python3"
  },
  "language_info": {
   "codemirror_mode": {
    "name": "ipython",
    "version": 3
   },
   "file_extension": ".py",
   "mimetype": "text/x-python",
   "name": "python",
   "nbconvert_exporter": "python",
   "pygments_lexer": "ipython3",
   "version": "3.8.3"
  }
 },
 "nbformat": 4,
 "nbformat_minor": 4
}
